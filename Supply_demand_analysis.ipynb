{
  "nbformat": 4,
  "nbformat_minor": 0,
  "metadata": {
    "colab": {
      "name": "Supply_demand_analysis.ipynb",
      "version": "0.3.2",
      "provenance": [],
      "collapsed_sections": []
    },
    "kernelspec": {
      "name": "python3",
      "display_name": "Python 3"
    }
  },
  "cells": [
    {
      "cell_type": "code",
      "metadata": {
        "id": "m5oWHycRaiXY",
        "colab_type": "code",
        "colab": {}
      },
      "source": [
        "#Import libraries\n",
        "import pandas as pd\n",
        "import matplotlib.pyplot as plt\n",
        "import datetime\n",
        "import seaborn as sns\n",
        "import numpy as np"
      ],
      "execution_count": 0,
      "outputs": []
    },
    {
      "cell_type": "code",
      "metadata": {
        "id": "P4X8izRDW1Vl",
        "colab_type": "code",
        "colab": {}
      },
      "source": [
        "#Connect to the drive folder\n",
        "from google.colab import drive\n",
        "drive.mount('/content/gdrive')\n"
      ],
      "execution_count": 0,
      "outputs": []
    },
    {
      "cell_type": "code",
      "metadata": {
        "id": "VpDXSEEhbDXd",
        "colab_type": "code",
        "colab": {}
      },
      "source": [
        "#Load datasets\n",
        "supply = pd.read_csv('gdrive/My Drive/Hourly_DriverActivity.csv')\n",
        "demand = pd.read_csv('gdrive/My Drive/Hourly_OverviewSearch.csv')"
      ],
      "execution_count": 0,
      "outputs": []
    },
    {
      "cell_type": "code",
      "metadata": {
        "id": "8YLmmZDmcxP1",
        "colab_type": "code",
        "colab": {}
      },
      "source": [
        "#Summing up the number of people search for a taxi\n",
        "demand['Customers'] = demand['Taxify: People saw +1 cars (unique)'] + demand['Taxify: People saw 0 cars (unique)']\n",
        "\n",
        "#Joining demand and supply datasets\n",
        "#Fill with zero if there are missing data\n",
        "sd_data = demand.merge(supply, how='outer', on='Date').fillna(0) \n",
        "\n",
        "#Changing date format\n",
        "sd_data = sd_data.assign(Date = sd_data['Date'].apply(lambda x: pd.to_datetime(x)))\n",
        "\n",
        "#Sort by date\n",
        "sd_data = sd_data.sort_values(by='Date', ascending=True)\n",
        "\n",
        "#Constact from date week number\n",
        "sd_data = sd_data.assign(Week = sd_data['Date'].apply(lambda x: x.week))\n",
        "\n",
        "#Constact from date hours\n",
        "sd_data = sd_data.assign(Hour = sd_data['Date'].apply(lambda x: x.hour))\n",
        "\n",
        "#Constact from date weekdays\n",
        "sd_data = sd_data.assign(Weekday_num = sd_data['Date'].apply(lambda x: x.weekday()))\n",
        "sd_data = sd_data.assign(Weekday = sd_data['Date'].apply(lambda x: x.strftime('%A')))"
      ],
      "execution_count": 0,
      "outputs": []
    },
    {
      "cell_type": "markdown",
      "metadata": {
        "id": "lGDrpFFrcLx2",
        "colab_type": "text"
      },
      "source": [
        ""
      ]
    },
    {
      "cell_type": "markdown",
      "metadata": {
        "id": "cYfpK3O9cL1V",
        "colab_type": "text"
      },
      "source": [
        "First, I constructed needed features. Then, to answer each question produced additional analysis."
      ]
    },
    {
      "cell_type": "markdown",
      "metadata": {
        "id": "6foCWdqQDLTO",
        "colab_type": "text"
      },
      "source": [
        "# Q1\n",
        "\n",
        "This qusetion, I will solve in two following ways.\n",
        "First, I will compare averaged each 36 hours in a week. We will able to see which 36 hours are more undersupplied in a week.\n",
        "\n",
        "Second, I will group by hours and see which hours are generally undersupplied. "
      ]
    },
    {
      "cell_type": "code",
      "metadata": {
        "id": "VLL2ewI-0Edr",
        "colab_type": "code",
        "colab": {}
      },
      "source": [
        "#Calculate differences to see undersupplied hours\n",
        "sd_data['Difference'] = sd_data['Active drivers'] - sd_data.Customers\n"
      ],
      "execution_count": 0,
      "outputs": []
    },
    {
      "cell_type": "code",
      "metadata": {
        "id": "Ptgz20iP4B27",
        "colab_type": "code",
        "outputId": "d7c50685-aea8-4d38-8c58-4267c490af64",
        "colab": {
          "base_uri": "https://localhost:8080/",
          "height": 597
        }
      },
      "source": [
        "#Copying to the new dataframe\n",
        "data = sd_data\n",
        "\n",
        "#Dinding mean value per each 36 hours\n",
        "data['x'] = data.Difference.rolling(window=36, center=True).mean()\n",
        "\n",
        "#Groupping by weekday and hour, calculating average\n",
        "data = data.groupby(['Weekday','Hour']).mean().reset_index().sort_values('Weekday_num')\n",
        "\n",
        "#Plot \n",
        "sns.heatmap(data.pivot( 'Hour', 'Weekday', 'x'))\n",
        "plt.show()\n",
        "#Generalize ideas\n",
        "plt.scatter(data.Hour.unique(), data.groupby('Hour').x.mean())\n",
        "plt.xlabel('Hours')\n",
        "plt.ylabel('Value')\n",
        "plt.show()\n"
      ],
      "execution_count": 0,
      "outputs": [
        {
          "output_type": "display_data",
          "data": {
            "image/png": "[encoded data removed]",
            "text/plain": [
              "<Figure size 432x288 with 2 Axes>"
            ]
          },
          "metadata": {
            "tags": []
          }
        },
        {
          "output_type": "display_data",
          "data": {
            "image/png": "[encoded data removed]",
            "text/plain": [
              "<Figure size 432x288 with 1 Axes>"
            ]
          },
          "metadata": {
            "tags": []
          }
        }
      ]
    },
    {
      "cell_type": "markdown",
      "metadata": {
        "id": "6I4AHppGd05K",
        "colab_type": "text"
      },
      "source": [
        "As a result, from heatmap we see that, the most undersupplied 36 hours are starting from 18:00 Thursday - 06:00 - Saturday. The most centred undersupplied value is at approximetly 11:00 Friday.\n",
        "\n",
        "From the scatter plot, we see, the averaged undersupply values per each hours. The results show, 19:00 is the most undersupplied 36 hours center hour."
      ]
    },
    {
      "cell_type": "markdown",
      "metadata": {
        "id": "WMWeToXADQTl",
        "colab_type": "text"
      },
      "source": [
        "# Q2"
      ]
    },
    {
      "cell_type": "code",
      "metadata": {
        "id": "EbIhzYyphpqV",
        "colab_type": "code",
        "outputId": "678a3338-09fa-4dcc-d5c3-5b62c2c8c255",
        "colab": {
          "base_uri": "https://localhost:8080/",
          "height": 300
        }
      },
      "source": [
        "#Extract needed features\n",
        "data = sd_data[['Customers', 'Active drivers', 'Date']]\n",
        "\n",
        "#Constact from date hours\n",
        "data = data.assign(Hour = data['Date'].apply(lambda x: x.hour))\n",
        "\n",
        "#Group by hour and calculate average values\n",
        "sd_hours = data.groupby(['Hour']).mean().reset_index()\n",
        "\n",
        "#Plot averaged number of active drivers\n",
        "sd_hours['Active drivers'].plot()\n",
        "\n",
        "#Plot averaged number of customers\n",
        "sd_hours.Customers.plot()\n",
        "\n",
        "plt.xticks(np.arange(0, 24, 1))\n",
        "plt.legend(['S', 'D'])\n",
        "plt.xlabel('Hours')\n",
        "plt.ylabel('Value')\n"
      ],
      "execution_count": 0,
      "outputs": [
        {
          "output_type": "execute_result",
          "data": {
            "text/plain": [
              "Text(0, 0.5, 'Value')"
            ]
          },
          "metadata": {
            "tags": []
          },
          "execution_count": 89
        },
        {
          "output_type": "display_data",
          "data": {
            "image/png": "[encoded data removed]",
            "text/plain": [
              "<Figure size 432x288 with 1 Axes>"
            ]
          },
          "metadata": {
            "tags": []
          }
        }
      ]
    },
    {
      "cell_type": "markdown",
      "metadata": {
        "id": "BHVCYxTwg0Z4",
        "colab_type": "text"
      },
      "source": [
        "The illustrated plot shows number of supply (blue) and demand (orange) per hours. \n",
        "Form the graph, we that there are mismatches during 04:00-07:00, 10:00-18:00and 20:00-23:00 as oversupply, and during 07:00-10:00 and 18:00-19:00 as undersupply."
      ]
    },
    {
      "cell_type": "markdown",
      "metadata": {
        "id": "BUKbNsOBDUSt",
        "colab_type": "text"
      },
      "source": [
        "# Q3 "
      ]
    },
    {
      "cell_type": "code",
      "metadata": {
        "id": "yjEXm2XqZtXA",
        "colab_type": "code",
        "outputId": "bbe8913e-e491-4bb5-9dfa-6a95ee5526ce",
        "colab": {
          "base_uri": "https://localhost:8080/",
          "height": 348
        }
      },
      "source": [
        "\n",
        "#Extract customers, active drivers, date, hour and weekday\n",
        "data = sd_data[['Customers', 'Active drivers', 'Date', 'Hour', 'Weekday']]\n",
        "\n",
        "#Group by weekday and hour, calculate average\n",
        "sd_weekdays = data.groupby(['Weekday', 'Hour']).mean().reset_index()\n",
        "\n",
        "#Calculate difference between supply and demand\n",
        "sd_weekdays = sd_weekdays.assign(Difference= sd_weekdays['Active drivers'] - sd_weekdays['Customers'])[['Weekday', 'Hour', 'Difference']]\n",
        "\n",
        "#Plotting\n",
        "sns.heatmap(sd_weekdays.pivot( 'Hour', 'Weekday', 'Difference'))"
      ],
      "execution_count": 0,
      "outputs": [
        {
          "output_type": "execute_result",
          "data": {
            "text/plain": [
              "<matplotlib.axes._subplots.AxesSubplot at 0x7efd9d9f8978>"
            ]
          },
          "metadata": {
            "tags": []
          },
          "execution_count": 74
        },
        {
          "output_type": "display_data",
          "data": {
            "image/png": "[encoded data removed]",
            "text/plain": [
              "<Figure size 432x288 with 2 Axes>"
            ]
          },
          "metadata": {
            "tags": []
          }
        }
      ]
    },
    {
      "cell_type": "markdown",
      "metadata": {
        "id": "tYaqYtwCflez",
        "colab_type": "text"
      },
      "source": [
        "This heatmap shows lack supply values during a weekly period. \n",
        "\n",
        "We can see that Thursday 18:00 and Friday 09:00 are the most undersupplied hours."
      ]
    },
    {
      "cell_type": "markdown",
      "metadata": {
        "id": "pYy5ayaRDaha",
        "colab_type": "text"
      },
      "source": [
        "# Q4"
      ]
    },
    {
      "cell_type": "code",
      "metadata": {
        "id": "oa050ywUbUdH",
        "colab_type": "code",
        "outputId": "8e804444-afe2-4164-dadb-985c0a5891bc",
        "colab": {
          "base_uri": "https://localhost:8080/",
          "height": 52
        }
      },
      "source": [
        "#Construct date\n",
        "demand = demand.assign(Date = sd_data['Date'].apply(lambda x: pd.to_datetime(x)))\n",
        "\n",
        "#Find rows with max coverage ratio, and difference in hours\n",
        "diff_series = demand[demand['Taxify: Coverage Ratio (unique)']==100].Date.sort_values().diff()\n",
        "\n",
        "#Print average hours\n",
        "print(diff_series.mean())\n",
        "\n",
        "#Print max difference in hours\n",
        "print(diff_series.max())"
      ],
      "execution_count": 0,
      "outputs": [
        {
          "output_type": "stream",
          "text": [
            "0 days 21:14:12.631578\n",
            "4 days 21:00:00\n"
          ],
          "name": "stdout"
        }
      ]
    },
    {
      "cell_type": "markdown",
      "metadata": {
        "id": "w5BMDBUtfNay",
        "colab_type": "text"
      },
      "source": [
        "From the results, we see the averaged number of hours between the highest coverage rate is 21 hours. \n",
        "\n",
        "The maximum time we needed to ensure that, there will be the high coverage again is 4 days 21 hours. "
      ]
    }
  ]
}